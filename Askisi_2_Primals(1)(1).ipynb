{
  "nbformat": 4,
  "nbformat_minor": 0,
  "metadata": {
    "kernelspec": {
      "display_name": "Python 3",
      "language": "python",
      "name": "python3"
    },
    "colab": {
      "name": "Askisi_2_Primals(1).ipynb",
      "provenance": []
    }
  },
  "cells": [
    {
      "cell_type": "code",
      "metadata": {
        "id": "RCvAE_VayCrm",
        "colab_type": "code",
        "colab": {}
      },
      "source": [
        "import random\n",
        "from past.builtins import xrange\n",
        "import math\n",
        "import numpy as np \n"
      ],
      "execution_count": 0,
      "outputs": []
    },
    {
      "cell_type": "markdown",
      "metadata": {
        "id": "NFBUwAwdyCtk",
        "colab_type": "text"
      },
      "source": [
        "![fermat.png](attachment:fermat.png)"
      ]
    },
    {
      "cell_type": "code",
      "metadata": {
        "id": "h6eg_dghyCuG",
        "colab_type": "code",
        "colab": {}
      },
      "source": [
        "def fermat_test(p, k):\n",
        "    if p < 3: return True\n",
        "    if p % 2 == 0: return False\n",
        "    \n",
        "    for i in range(k):\n",
        "        a = random.randint(2,p)\n",
        "        if pow(a, p-1, p) != 1: return False\n",
        "        \n",
        "    return True"
      ],
      "execution_count": 0,
      "outputs": []
    },
    {
      "cell_type": "markdown",
      "metadata": {
        "id": "6X_XcQF-yCu_",
        "colab_type": "text"
      },
      "source": [
        "![miller.png](attachment:miller.png)"
      ]
    },
    {
      "cell_type": "code",
      "metadata": {
        "id": "TCc39WM_yCvU",
        "colab_type": "code",
        "colab": {}
      },
      "source": [
        "def miller_rabin_test(p, k):\n",
        "    if p < 3: return True\n",
        "    if p % 2 == 0: return False\n",
        "    \n",
        "    d = p - 1\n",
        "    r = 1\n",
        "    while (d % 2 == 0): \n",
        "        d //= 2\n",
        "        r += 1\n",
        "    \n",
        "    for i in range(k):\n",
        "        a = random.randint(2,p-1)\n",
        "        x = pow(a, d, p)\n",
        "        if x == 1 or x == p-1: continue\n",
        "        \n",
        "        cont = False\n",
        "        for j in range(r-1):\n",
        "            x = pow(x, 2, p)\n",
        "            if x == p-1: \n",
        "                cont = True\n",
        "                break\n",
        "                \n",
        "        if cont: continue\n",
        "            \n",
        "        return False\n",
        "    return True"
      ],
      "execution_count": 0,
      "outputs": []
    },
    {
      "cell_type": "code",
      "metadata": {
        "id": "GYmrIMudyCwj",
        "colab_type": "code",
        "colab": {
          "base_uri": "https://localhost:8080/",
          "height": 34
        },
        "outputId": "dc3cbc55-2bed-497d-c832-0c2323456178"
      },
      "source": [
        "#Testing fermat_test() for long numbers\n",
        "# α) Ερώτημα\n",
        "fermat_test(67280421310721,30)\n"
      ],
      "execution_count": 4,
      "outputs": [
        {
          "output_type": "execute_result",
          "data": {
            "text/plain": [
              "True"
            ]
          },
          "metadata": {
            "tags": []
          },
          "execution_count": 4
        }
      ]
    },
    {
      "cell_type": "code",
      "metadata": {
        "id": "NoxPt2u_yCyG",
        "colab_type": "code",
        "colab": {
          "base_uri": "https://localhost:8080/",
          "height": 34
        },
        "outputId": "1fe842c9-0f47-487a-8b1d-1f00e6615d3f"
      },
      "source": [
        "fermat_test(170141183460469231731687303715884105721,30)"
      ],
      "execution_count": 5,
      "outputs": [
        {
          "output_type": "execute_result",
          "data": {
            "text/plain": [
              "False"
            ]
          },
          "metadata": {
            "tags": []
          },
          "execution_count": 5
        }
      ]
    },
    {
      "cell_type": "code",
      "metadata": {
        "id": "zMbroxfwyCy_",
        "colab_type": "code",
        "colab": {
          "base_uri": "https://localhost:8080/",
          "height": 34
        },
        "outputId": "f9290779-4b3b-47a3-b6e5-6e7bab21fd05"
      },
      "source": [
        "fermat_test(2**2281 -1,30)"
      ],
      "execution_count": 6,
      "outputs": [
        {
          "output_type": "execute_result",
          "data": {
            "text/plain": [
              "True"
            ]
          },
          "metadata": {
            "tags": []
          },
          "execution_count": 6
        }
      ]
    },
    {
      "cell_type": "code",
      "metadata": {
        "id": "WQ0a284JyCzu",
        "colab_type": "code",
        "colab": {
          "base_uri": "https://localhost:8080/",
          "height": 34
        },
        "outputId": "cb685741-ea10-4739-ced6-8f0ae516d420"
      },
      "source": [
        "fermat_test(2**19939 -1,30)"
      ],
      "execution_count": 7,
      "outputs": [
        {
          "output_type": "execute_result",
          "data": {
            "text/plain": [
              "False"
            ]
          },
          "metadata": {
            "tags": []
          },
          "execution_count": 7
        }
      ]
    },
    {
      "cell_type": "code",
      "metadata": {
        "id": "jvZjcJZ6yC0g",
        "colab_type": "code",
        "colab": {
          "base_uri": "https://localhost:8080/",
          "height": 34
        },
        "outputId": "76fb933f-b7a4-46f4-f0fe-e4b2f007a093"
      },
      "source": [
        "fermat_test(2**9941 -1,30)"
      ],
      "execution_count": 8,
      "outputs": [
        {
          "output_type": "execute_result",
          "data": {
            "text/plain": [
              "True"
            ]
          },
          "metadata": {
            "tags": []
          },
          "execution_count": 8
        }
      ]
    },
    {
      "cell_type": "code",
      "metadata": {
        "id": "oDjl17PbyC1M",
        "colab_type": "code",
        "colab": {
          "base_uri": "https://localhost:8080/",
          "height": 52
        },
        "outputId": "d9ad6504-5854-4e2b-b661-277656b9fce5"
      },
      "source": [
        "# Carmichael numbers \n",
        "# β)ερώτημα Miller-Rabin test for Carmichael numbers \n",
        "c_numbers = [629326277622001,126708084584398801,56237362582392401,790689421836863641,973694665856161, 346413738355448401, 589102252820237401, 556237362582392401, \n",
        "             851896013395343201,719756626091706801,973694665856161,222628719906994401]\n",
        "f_prediction, mr_prediction = 0,0\n",
        "for i in c_numbers:\n",
        "    if fermat_test(i,30): f_prediction += 1\n",
        "    if miller_rabin_test(i,30): mr_prediction += 1\n",
        "        \n",
        "print(\"The Fermat test predicts %d of %d Carmichael numbers are prime.\" % (f_prediction, len(c_numbers)))\n",
        "print(\"The Miller-Rabin test predicts %d of %d Carmichael numbers are prime.\" % (mr_prediction, len(c_numbers)))"
      ],
      "execution_count": 11,
      "outputs": [
        {
          "output_type": "stream",
          "text": [
            "The Fermat test predicts 3 of 12 Carmichael numbers are prime.\n",
            "The Miller-Rabin test predicts 1 of 12 Carmichael numbers are prime.\n"
          ],
          "name": "stdout"
        }
      ]
    },
    {
      "cell_type": "markdown",
      "metadata": {
        "id": "dVVKgB4LyC2T",
        "colab_type": "text"
      },
      "source": [
        "Για μεγάλους Carmichael numbers παρατηρούμε ότι περνάνε περισσότεροι από το κριτήριο του Fermat σε σχέση με του Miller-Rabin"
      ]
    },
    {
      "cell_type": "markdown",
      "metadata": {
        "id": "W1VXDI76yC2j",
        "colab_type": "text"
      },
      "source": [
        "# Mersenne Numbers"
      ]
    },
    {
      "cell_type": "code",
      "metadata": {
        "id": "uFduAyHayC2x",
        "colab_type": "code",
        "colab": {}
      },
      "source": [
        "#Mersene numbers \n",
        "#In mathematics, a Mersenne prime is a prime number that is one less than a power of two. \n",
        "#That is, it is a prime number of the form Mn = 2^n − 1 for some integer n. \n",
        "#They are named after Marin Mersenne, a French Minim friar, who studied them in the early 17th century.\n"
      ],
      "execution_count": 0,
      "outputs": []
    },
    {
      "cell_type": "code",
      "metadata": {
        "id": "-vuCi_XSyC3h",
        "colab_type": "code",
        "colab": {}
      },
      "source": [
        "def is_prime(number):\n",
        "    if (number <= 1):\n",
        "        return False\n",
        "    \n",
        "    for factor in range(2, number):\n",
        "        if number % factor == 0:\n",
        "            return False\n",
        "        \n",
        "    return True\n",
        "\n"
      ],
      "execution_count": 0,
      "outputs": []
    },
    {
      "cell_type": "code",
      "metadata": {
        "id": "K82nK6zcyC4R",
        "colab_type": "code",
        "colab": {}
      },
      "source": [
        "def get_primes(n_start, n_end):\n",
        "    list1 = []\n",
        "    for number in range(n_start, n_end):\n",
        "        if is_prime(number):\n",
        "            list1.append(number)\n",
        "    return list1\n",
        "    \n"
      ],
      "execution_count": 0,
      "outputs": []
    },
    {
      "cell_type": "code",
      "metadata": {
        "id": "4_ic0PzUyC40",
        "colab_type": "code",
        "colab": {}
      },
      "source": [
        "def mersenne_number(exp):\n",
        "    number = (2**exp)-1\n",
        "    return number"
      ],
      "execution_count": 0,
      "outputs": []
    },
    {
      "cell_type": "markdown",
      "metadata": {
        "id": "CFPiTkrFyC5Z",
        "colab_type": "text"
      },
      "source": [
        "![lucas.png](attachment:lucas.png)"
      ]
    },
    {
      "cell_type": "code",
      "metadata": {
        "id": "E5MlrEoxyC5l",
        "colab_type": "code",
        "colab": {}
      },
      "source": [
        "##Lucas–Lehme\n",
        "# give any number to lucas_lehmer(), returns a list of of lucas_lehmer sequence upto i = p-2\n",
        "\n",
        "def lucas_lehmer(p):\n",
        "    list1 = [4]\n",
        "    M = (2**p) - 1\n",
        "    for i in range(1, p-1):\n",
        "        list1.append(  ((list1[i-1]**2)-2) % M  )  #s=( (sxs) -2)mod M\n",
        "    return list1 "
      ],
      "execution_count": 0,
      "outputs": []
    },
    {
      "cell_type": "code",
      "metadata": {
        "id": "anekZG4tyC6J",
        "colab_type": "code",
        "colab": {},
        "outputId": "6e176692-2efb-4f22-ff55-073430e4136c"
      },
      "source": [
        "lucas_lehmer(12)"
      ],
      "execution_count": 0,
      "outputs": [
        {
          "output_type": "execute_result",
          "data": {
            "text/plain": [
              "[4, 14, 194, 779, 779, 779, 779, 779, 779, 779, 779]"
            ]
          },
          "metadata": {
            "tags": []
          },
          "execution_count": 12
        }
      ]
    },
    {
      "cell_type": "code",
      "metadata": {
        "id": "bNrifsLmyC6t",
        "colab_type": "code",
        "colab": {}
      },
      "source": [
        "def ll_prime(p):\n",
        "    list1 =  lucas_lehmer(p)   # if n^p-1 is prime return 0 else 0 \n",
        "    if (list1[-1] == 0):\n",
        "        return 1\n",
        "    elif (list1[-1] != 0):\n",
        "        return 0"
      ],
      "execution_count": 0,
      "outputs": []
    },
    {
      "cell_type": "code",
      "metadata": {
        "id": "bNHyYcluyC7Z",
        "colab_type": "code",
        "colab": {}
      },
      "source": [
        "def check_mersenne_primes(a, b):\n",
        "    list1 = get_primes(a, b)     # Gets a list of Prime numbers b/w given numbers a, b i.e. 100,3000\n",
        "    \n",
        "    list2 = []                   # Gets a Mersenne number 2^n-1 for each prime number given in list 1   i.e. b/w 100 and 3000 \n",
        "    for x in list1:\n",
        "        list2.append(mersenne_number(x))\n",
        "        \n",
        "    list3 = []          # ll_prime calls the lucas_lehmer ftn which tests each prime number exponent given in list1 \n",
        "    for i in list1:     # i.e. (exponents of mersenne_numbers) whether the corresponding mersenne_number in list is prime or not\n",
        "           list3.append(ll_prime(i))\n",
        "    #print(f'Prime exponents are prime or not i.e. 1 or 0 {list3}')\n",
        "   \n",
        "    y = list(zip(list2, list3))   # zip mersenne numbers and 1 or 0 to know whether it is prime or not, 1 is prime 0 is not prime\n",
        "    return y"
      ],
      "execution_count": 0,
      "outputs": []
    },
    {
      "cell_type": "code",
      "metadata": {
        "id": "mNHiukW-yC8A",
        "colab_type": "code",
        "colab": {}
      },
      "source": [
        "y = check_mersenne_primes(100,3000)\n"
      ],
      "execution_count": 0,
      "outputs": []
    },
    {
      "cell_type": "code",
      "metadata": {
        "id": "AXEdlO-uyC8n",
        "colab_type": "code",
        "colab": {}
      },
      "source": [
        "mers=[]\n",
        "s=0\n",
        "for i in range(0,len(y)):\n",
        "    if y[i][1]==1:\n",
        "        mers.append(y[i][0])\n",
        "        s=s+1\n",
        "        \n",
        "        \n",
        "    "
      ],
      "execution_count": 0,
      "outputs": []
    },
    {
      "cell_type": "code",
      "metadata": {
        "id": "eFNHEnw1yC9M",
        "colab_type": "code",
        "colab": {},
        "outputId": "e0194811-fc2a-4c03-b4f7-21127b8973ed"
      },
      "source": [
        "print(\"Mersenne primes from 100<x<3000 are the following \")"
      ],
      "execution_count": 0,
      "outputs": [
        {
          "output_type": "stream",
          "text": [
            "Mersenne primes from 100<x<3000 are the following \n"
          ],
          "name": "stdout"
        }
      ]
    },
    {
      "cell_type": "code",
      "metadata": {
        "id": "qiIitF8eyC93",
        "colab_type": "code",
        "colab": {},
        "outputId": "53b8523a-e185-41f6-b61e-083421fafc33"
      },
      "source": [
        "mers[0] #2^107 -1"
      ],
      "execution_count": 0,
      "outputs": [
        {
          "output_type": "execute_result",
          "data": {
            "text/plain": [
              "162259276829213363391578010288127"
            ]
          },
          "metadata": {
            "tags": []
          },
          "execution_count": 18
        }
      ]
    },
    {
      "cell_type": "code",
      "metadata": {
        "id": "2GYw9KnEyC-Z",
        "colab_type": "code",
        "colab": {},
        "outputId": "ea7e430e-a2ef-4147-d924-3278b7982dff"
      },
      "source": [
        "mers[1]  #2^127 -1"
      ],
      "execution_count": 0,
      "outputs": [
        {
          "output_type": "execute_result",
          "data": {
            "text/plain": [
              "170141183460469231731687303715884105727"
            ]
          },
          "metadata": {
            "tags": []
          },
          "execution_count": 19
        }
      ]
    },
    {
      "cell_type": "code",
      "metadata": {
        "id": "br4sgBkHyC-8",
        "colab_type": "code",
        "colab": {},
        "outputId": "d1dab791-3e64-4ef9-fbb0-558b7ae5be0f"
      },
      "source": [
        "mers[2] # 2^521 -1 "
      ],
      "execution_count": 0,
      "outputs": [
        {
          "output_type": "execute_result",
          "data": {
            "text/plain": [
              "6864797660130609714981900799081393217269435300143305409394463459185543183397656052122559640661454554977296311391480858037121987999716643812574028291115057151"
            ]
          },
          "metadata": {
            "tags": []
          },
          "execution_count": 20
        }
      ]
    },
    {
      "cell_type": "code",
      "metadata": {
        "id": "eaw6ECxEyC_a",
        "colab_type": "code",
        "colab": {},
        "outputId": "d856df50-2fe7-4ecb-8cc2-312c397e34fe"
      },
      "source": [
        "mers[3] # 2^607 -1"
      ],
      "execution_count": 0,
      "outputs": [
        {
          "output_type": "execute_result",
          "data": {
            "text/plain": [
              "531137992816767098689588206552468627329593117727031923199444138200403559860852242739162502265229285668889329486246501015346579337652707239409519978766587351943831270835393219031728127"
            ]
          },
          "metadata": {
            "tags": []
          },
          "execution_count": 21
        }
      ]
    },
    {
      "cell_type": "code",
      "metadata": {
        "id": "1bSO101NyC_3",
        "colab_type": "code",
        "colab": {},
        "outputId": "32c93543-c84a-4cec-c090-5deb62bc7584"
      },
      "source": [
        "mers[4] # 2^1279 -1"
      ],
      "execution_count": 0,
      "outputs": [
        {
          "output_type": "execute_result",
          "data": {
            "text/plain": [
              "10407932194664399081925240327364085538615262247266704805319112350403608059673360298012239441732324184842421613954281007791383566248323464908139906605677320762924129509389220345773183349661583550472959420547689811211693677147548478866962501384438260291732348885311160828538416585028255604666224831890918801847068222203140521026698435488732958028878050869736186900714720710555703168729087"
            ]
          },
          "metadata": {
            "tags": []
          },
          "execution_count": 22
        }
      ]
    },
    {
      "cell_type": "code",
      "metadata": {
        "id": "HcNwX_kmyDAf",
        "colab_type": "code",
        "colab": {},
        "outputId": "e4c8f0f2-7e65-4a5c-c4be-d7f1eab4c965"
      },
      "source": [
        "mers[5] #2^2203 -1"
      ],
      "execution_count": 0,
      "outputs": [
        {
          "output_type": "execute_result",
          "data": {
            "text/plain": [
              "1475979915214180235084898622737381736312066145333169775147771216478570297878078949377407337049389289382748507531496480477281264838760259191814463365330269540496961201113430156902396093989090226259326935025281409614983499388222831448598601834318536230923772641390209490231836446899608210795482963763094236630945410832793769905399982457186322944729636418890623372171723742105636440368218459649632948538696905872650486914434637457507280441823676813517852099348660847172579408422316678097670224011990280170474894487426924742108823536808485072502240519452587542875349976558572670229633962575212637477897785501552646522609988869914013540483809865681250419497686697771007"
            ]
          },
          "metadata": {
            "tags": []
          },
          "execution_count": 23
        }
      ]
    },
    {
      "cell_type": "code",
      "metadata": {
        "id": "HlH8zXRJyDA5",
        "colab_type": "code",
        "colab": {},
        "outputId": "fd45546c-98a4-41bd-a33d-142ffc96d855"
      },
      "source": [
        "mers[6] # 2^2281 -1"
      ],
      "execution_count": 0,
      "outputs": [
        {
          "output_type": "execute_result",
          "data": {
            "text/plain": [
              "446087557183758429571151706402101809886208632412859901111991219963404685792820473369112545269003989026153245931124316702395758705693679364790903497461147071065254193353938124978226307947312410798874869040070279328428810311754844108094878252494866760969586998128982645877596028979171536962503068429617331702184750324583009171832104916050157628886606372145501702225925125224076829605427173573964812995250569412480720738476855293681666712844831190877620606786663862190240118570736831901886479225810414714078935386562497968178729127629594924411960961386713946279899275006954917139758796061223803393537381034666494402951052059047968693255388647930440925104186817009640171764133172418132836351"
            ]
          },
          "metadata": {
            "tags": []
          },
          "execution_count": 24
        }
      ]
    },
    {
      "cell_type": "code",
      "metadata": {
        "id": "jMrMNQZayDBm",
        "colab_type": "code",
        "colab": {}
      },
      "source": [
        "#Only 7 numbers are prime Mersenne for n=2^x-1  with x in (100,3000)\n",
        "\n",
        "#We realize that the values of x are 107,127,521,607,1279,2203,2281\n",
        "#confirm  in https://www.rieselprime.de/ziki/List_of_known_Mersenne_primes"
      ],
      "execution_count": 0,
      "outputs": []
    }
  ]
}